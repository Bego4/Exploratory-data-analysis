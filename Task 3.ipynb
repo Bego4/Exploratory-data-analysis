{
  "nbformat": 4,
  "nbformat_minor": 0,
  "metadata": {
    "colab": {
      "provenance": []
    },
    "kernelspec": {
      "name": "python3",
      "display_name": "Python 3"
    },
    "language_info": {
      "name": "python"
    }
  },
  "cells": [
    {
      "cell_type": "markdown",
      "source": [
        "# **Author: Abdelrhman Sameh**"
      ],
      "metadata": {
        "id": "YZz-qiu9x54y"
      }
    },
    {
      "cell_type": "code",
      "execution_count": 10,
      "metadata": {
        "id": "qBhmmIZDx2fj"
      },
      "outputs": [],
      "source": [
        "#Importing the required libraries\n",
        "import pandas as pd\n",
        "import numpy as np\n",
        "import matplotlib.pyplot as plt\n",
        "import seaborn as sns\n"
      ]
    },
    {
      "cell_type": "code",
      "source": [
        "df = pd.read_csv('/content/SampleSuperstore.csv')\n",
        "#Check the number of rows and columns\n",
        "print(df.shape)\n"
      ],
      "metadata": {
        "colab": {
          "base_uri": "https://localhost:8080/"
        },
        "id": "FY-6DL8MyIpx",
        "outputId": "9af2d5c8-b987-4da5-bfe4-ce30fb92eb31"
      },
      "execution_count": 4,
      "outputs": [
        {
          "output_type": "stream",
          "name": "stdout",
          "text": [
            "(9994, 13)\n"
          ]
        }
      ]
    },
    {
      "cell_type": "code",
      "source": [
        "#Check the data types of each column\n",
        "print(df.dtypes)\n"
      ],
      "metadata": {
        "colab": {
          "base_uri": "https://localhost:8080/"
        },
        "id": "dZyl3yNvzAwu",
        "outputId": "e8a2fcda-e027-4b4b-f13b-18e9054e6eed"
      },
      "execution_count": 5,
      "outputs": [
        {
          "output_type": "stream",
          "name": "stdout",
          "text": [
            "Ship Mode        object\n",
            "Segment          object\n",
            "Country          object\n",
            "City             object\n",
            "State            object\n",
            "Postal Code       int64\n",
            "Region           object\n",
            "Category         object\n",
            "Sub-Category     object\n",
            "Sales           float64\n",
            "Quantity          int64\n",
            "Discount        float64\n",
            "Profit          float64\n",
            "dtype: object\n"
          ]
        }
      ]
    },
    {
      "cell_type": "code",
      "source": [
        "#Check the presence of missing values\n",
        "print(df.isnull().sum())\n"
      ],
      "metadata": {
        "colab": {
          "base_uri": "https://localhost:8080/"
        },
        "id": "LLLxa1K2zWtV",
        "outputId": "189ed358-8706-44e6-9170-deb9a8eae912"
      },
      "execution_count": 7,
      "outputs": [
        {
          "output_type": "stream",
          "name": "stdout",
          "text": [
            "Ship Mode       0\n",
            "Segment         0\n",
            "Country         0\n",
            "City            0\n",
            "State           0\n",
            "Postal Code     0\n",
            "Region          0\n",
            "Category        0\n",
            "Sub-Category    0\n",
            "Sales           0\n",
            "Quantity        0\n",
            "Discount        0\n",
            "Profit          0\n",
            "dtype: int64\n"
          ]
        }
      ]
    },
    {
      "cell_type": "code",
      "source": [
        "#Check descriptive statistics of numerical columns\n",
        "print(df.describe())\n"
      ],
      "metadata": {
        "colab": {
          "base_uri": "https://localhost:8080/"
        },
        "id": "-WP2O96EzcWx",
        "outputId": "4e8b1a8e-a6ce-4a8a-de26-a7d12dc6da06"
      },
      "execution_count": 8,
      "outputs": [
        {
          "output_type": "stream",
          "name": "stdout",
          "text": [
            "        Postal Code         Sales     Quantity     Discount       Profit\n",
            "count   9994.000000   9994.000000  9994.000000  9994.000000  9994.000000\n",
            "mean   55190.379428    229.858001     3.789574     0.156203    28.656896\n",
            "std    32063.693350    623.245101     2.225110     0.206452   234.260108\n",
            "min     1040.000000      0.444000     1.000000     0.000000 -6599.978000\n",
            "25%    23223.000000     17.280000     2.000000     0.000000     1.728750\n",
            "50%    56430.500000     54.490000     3.000000     0.200000     8.666500\n",
            "75%    90008.000000    209.940000     5.000000     0.200000    29.364000\n",
            "max    99301.000000  22638.480000    14.000000     0.800000  8399.976000\n"
          ]
        }
      ]
    },
    {
      "cell_type": "code",
      "source": [
        "#Check descriptive statistics of categorical columns\n",
        "print(df.describe(include=['O']))\n"
      ],
      "metadata": {
        "colab": {
          "base_uri": "https://localhost:8080/"
        },
        "id": "gPOmxu2gzkm9",
        "outputId": "b9f62f1f-0d73-451d-8f95-19cc057c7b7c"
      },
      "execution_count": 9,
      "outputs": [
        {
          "output_type": "stream",
          "name": "stdout",
          "text": [
            "             Ship Mode   Segment        Country           City       State  \\\n",
            "count             9994      9994           9994           9994        9994   \n",
            "unique               4         3              1            531          49   \n",
            "top     Standard Class  Consumer  United States  New York City  California   \n",
            "freq              5968      5191           9994            915        2001   \n",
            "\n",
            "       Region         Category Sub-Category  \n",
            "count    9994             9994         9994  \n",
            "unique      4                3           17  \n",
            "top      West  Office Supplies      Binders  \n",
            "freq     3203             6026         1523  \n"
          ]
        }
      ]
    },
    {
      "cell_type": "code",
      "source": [
        "#Check the distribution of the 'Sales' column\n",
        "sns.histplot(df['Sales'], bins=30)\n",
        "plt.show()"
      ],
      "metadata": {
        "colab": {
          "base_uri": "https://localhost:8080/",
          "height": 279
        },
        "id": "sLL8DTk4ztHx",
        "outputId": "d5568776-69be-4137-ad76-b766c7207d53"
      },
      "execution_count": 11,
      "outputs": [
        {
          "output_type": "display_data",
          "data": {
            "text/plain": [
              "<Figure size 432x288 with 1 Axes>"
            ],
            "image/png": "[encoded data removed]"
          },
          "metadata": {
            "needs_background": "light"
          }
        }
      ]
    },
    {
      "cell_type": "code",
      "source": [
        "#Check the correlation between numerical columns\n",
        "sns.heatmap(df.corr(), annot=True)\n",
        "plt.show()\n"
      ],
      "metadata": {
        "colab": {
          "base_uri": "https://localhost:8080/",
          "height": 269
        },
        "id": "R_oA9dPczz8q",
        "outputId": "ef905c50-6fe3-4122-ef71-3375bcc81328"
      },
      "execution_count": 12,
      "outputs": [
        {
          "output_type": "display_data",
          "data": {
            "text/plain": [
              "<Figure size 432x288 with 2 Axes>"
            ],
            "image/png": "[encoded data removed]"
          },
          "metadata": {
            "needs_background": "light"
          }
        }
      ]
    },
    {
      "cell_type": "code",
      "source": [
        "#Check the total profit by region\n",
        "sns.barplot(x='Region', y='Profit', data=df.groupby('Region').sum().reset_index())\n",
        "plt.show()"
      ],
      "metadata": {
        "colab": {
          "base_uri": "https://localhost:8080/",
          "height": 279
        },
        "id": "OeG-cieqz5rI",
        "outputId": "5f9a7380-5957-4b71-82ed-4f2719f5dd71"
      },
      "execution_count": 13,
      "outputs": [
        {
          "output_type": "display_data",
          "data": {
            "text/plain": [
              "<Figure size 432x288 with 1 Axes>"
            ],
            "image/png": "[encoded data removed]"
          },
          "metadata": {
            "needs_background": "light"
          }
        }
      ]
    },
    {
      "cell_type": "markdown",
      "source": [
        "**Dashboard 1: Overview:**"
      ],
      "metadata": {
        "id": "8nvM1Ldk2tjM"
      }
    },
    {
      "cell_type": "code",
      "source": [
        "#Number of rows and columns in the dataset\n",
        "num_rows, num_cols = df.shape\n",
        "print(f\"Number of rows: {num_rows}\")\n",
        "print(f\"Number of columns: {num_cols}\")"
      ],
      "metadata": {
        "colab": {
          "base_uri": "https://localhost:8080/"
        },
        "id": "OBD7gQrx21JP",
        "outputId": "d010eb5e-034e-464f-db77-48d91ceb2df0"
      },
      "execution_count": 14,
      "outputs": [
        {
          "output_type": "stream",
          "name": "stdout",
          "text": [
            "Number of rows: 9994\n",
            "Number of columns: 13\n"
          ]
        }
      ]
    },
    {
      "cell_type": "code",
      "source": [
        "#Data types of each column\n",
        "print(\"\\nData types:\")\n",
        "print(df.dtypes)"
      ],
      "metadata": {
        "colab": {
          "base_uri": "https://localhost:8080/"
        },
        "id": "rrDwR9YV2-Ns",
        "outputId": "6363132c-1974-44cb-f0aa-eae0c2d575d0"
      },
      "execution_count": 15,
      "outputs": [
        {
          "output_type": "stream",
          "name": "stdout",
          "text": [
            "\n",
            "Data types:\n",
            "Ship Mode        object\n",
            "Segment          object\n",
            "Country          object\n",
            "City             object\n",
            "State            object\n",
            "Postal Code       int64\n",
            "Region           object\n",
            "Category         object\n",
            "Sub-Category     object\n",
            "Sales           float64\n",
            "Quantity          int64\n",
            "Discount        float64\n",
            "Profit          float64\n",
            "dtype: object\n"
          ]
        }
      ]
    },
    {
      "cell_type": "code",
      "source": [
        "#Presence of missing values\n",
        "print(\"\\nMissing values:\")\n",
        "print(df.isnull().sum())"
      ],
      "metadata": {
        "colab": {
          "base_uri": "https://localhost:8080/"
        },
        "id": "-vJEa9ln3ErN",
        "outputId": "5a570940-0b0c-41a1-845d-f06a87a1a7ea"
      },
      "execution_count": 16,
      "outputs": [
        {
          "output_type": "stream",
          "name": "stdout",
          "text": [
            "\n",
            "Missing values:\n",
            "Ship Mode       0\n",
            "Segment         0\n",
            "Country         0\n",
            "City            0\n",
            "State           0\n",
            "Postal Code     0\n",
            "Region          0\n",
            "Category        0\n",
            "Sub-Category    0\n",
            "Sales           0\n",
            "Quantity        0\n",
            "Discount        0\n",
            "Profit          0\n",
            "dtype: int64\n"
          ]
        }
      ]
    },
    {
      "cell_type": "markdown",
      "source": [
        "**Dashboard 2: Descriptive statistics:**"
      ],
      "metadata": {
        "id": "5vDbPJp-3MW5"
      }
    },
    {
      "cell_type": "code",
      "source": [
        "#Descriptive statistics of numerical columns\n",
        "print(\"\\nDescriptive statistics (numerical columns):\")\n",
        "print(df.describe())"
      ],
      "metadata": {
        "colab": {
          "base_uri": "https://localhost:8080/"
        },
        "id": "YhlqSRwC3aNs",
        "outputId": "9abdfed5-92d9-4c3d-a74c-a086f6b2fa10"
      },
      "execution_count": 17,
      "outputs": [
        {
          "output_type": "stream",
          "name": "stdout",
          "text": [
            "\n",
            "Descriptive statistics (numerical columns):\n",
            "        Postal Code         Sales     Quantity     Discount       Profit\n",
            "count   9994.000000   9994.000000  9994.000000  9994.000000  9994.000000\n",
            "mean   55190.379428    229.858001     3.789574     0.156203    28.656896\n",
            "std    32063.693350    623.245101     2.225110     0.206452   234.260108\n",
            "min     1040.000000      0.444000     1.000000     0.000000 -6599.978000\n",
            "25%    23223.000000     17.280000     2.000000     0.000000     1.728750\n",
            "50%    56430.500000     54.490000     3.000000     0.200000     8.666500\n",
            "75%    90008.000000    209.940000     5.000000     0.200000    29.364000\n",
            "max    99301.000000  22638.480000    14.000000     0.800000  8399.976000\n"
          ]
        }
      ]
    },
    {
      "cell_type": "code",
      "source": [
        "#Descriptive statistics of categorical columns\n",
        "print(\"\\nDescriptive statistics (categorical columns):\")\n",
        "print(df.describe(include=['O']))"
      ],
      "metadata": {
        "colab": {
          "base_uri": "https://localhost:8080/"
        },
        "id": "OPllJYPk3ccv",
        "outputId": "0b972bee-2fc9-4a4b-8655-cd3f3a7787c2"
      },
      "execution_count": 18,
      "outputs": [
        {
          "output_type": "stream",
          "name": "stdout",
          "text": [
            "\n",
            "Descriptive statistics (categorical columns):\n",
            "             Ship Mode   Segment        Country           City       State  \\\n",
            "count             9994      9994           9994           9994        9994   \n",
            "unique               4         3              1            531          49   \n",
            "top     Standard Class  Consumer  United States  New York City  California   \n",
            "freq              5968      5191           9994            915        2001   \n",
            "\n",
            "       Region         Category Sub-Category  \n",
            "count    9994             9994         9994  \n",
            "unique      4                3           17  \n",
            "top      West  Office Supplies      Binders  \n",
            "freq     3203             6026         1523  \n"
          ]
        }
      ]
    },
    {
      "cell_type": "code",
      "source": [
        "#Distribution of the 'Sales' column\n",
        "sns.histplot(df['Sales'], bins=30)\n",
        "plt.title(\"Distribution of Sales\")\n",
        "plt.show()"
      ],
      "metadata": {
        "colab": {
          "base_uri": "https://localhost:8080/",
          "height": 295
        },
        "id": "YM_zOk3T3gtK",
        "outputId": "a1835151-652f-42b1-cea1-015fd3508d44"
      },
      "execution_count": 19,
      "outputs": [
        {
          "output_type": "display_data",
          "data": {
            "text/plain": [
              "<Figure size 432x288 with 1 Axes>"
            ],
            "image/png": "[encoded data removed]"
          },
          "metadata": {
            "needs_background": "light"
          }
        }
      ]
    },
    {
      "cell_type": "markdown",
      "source": [
        "**Dashboard 3: Profit by region:**"
      ],
      "metadata": {
        "id": "Us8dRNgZ3m4q"
      }
    },
    {
      "cell_type": "code",
      "source": [
        "#Total profit by region\n",
        "total_profit_by_region = df.groupby('Region')['Profit'].sum().reset_index()\n",
        "sns.barplot(x='Region', y='Profit', data=total_profit_by_region)\n",
        "plt.title(\"Total Profit by Region\")\n",
        "plt.show()"
      ],
      "metadata": {
        "colab": {
          "base_uri": "https://localhost:8080/",
          "height": 295
        },
        "id": "BoSs8llJ3tEd",
        "outputId": "bdd2530d-b4fb-4468-d19c-02cd9db890f8"
      },
      "execution_count": 20,
      "outputs": [
        {
          "output_type": "display_data",
          "data": {
            "text/plain": [
              "<Figure size 432x288 with 1 Axes>"
            ],
            "image/png": "[encoded data removed]"
          },
          "metadata": {
            "needs_background": "light"
          }
        }
      ]
    },
    {
      "cell_type": "markdown",
      "source": [
        "# **After analyzing the data and creating some simple dashboards we can conclude that the central region is the region with the least profit while the west region is the region with the highest profit.The correlation heatmap indicates that there is a moderate positive correlation between sales and profit, and between profit and discount. There is a weak positive correlation between sales and quantity, and between sales and discount. There is a weak negative correlation between sales and price, and between quantity and price.**"
      ],
      "metadata": {
        "id": "P-d4gkZ-30kx"
      }
    }
  ]
}